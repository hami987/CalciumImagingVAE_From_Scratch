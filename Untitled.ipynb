{
 "cells": [
  {
   "cell_type": "code",
   "execution_count": 1,
   "id": "6e42c413",
   "metadata": {},
   "outputs": [],
   "source": [
    "import pandas as pd\n",
    "import numpy as np\n",
    "import matplotlib.pyplot as plt"
   ]
  },
  {
   "cell_type": "code",
   "execution_count": 5,
   "id": "a3ae2956",
   "metadata": {},
   "outputs": [
    {
     "name": "stdout",
     "output_type": "stream",
     "text": [
      "      Wall time  Step         Value\n",
      "0  1.664374e+09     1  1.134955e+07\n",
      "1  1.664375e+09     2  4.711379e+06\n",
      "2  1.664376e+09     3  1.828691e+06\n",
      "3  1.664377e+09     4  8.121024e+05\n",
      "4  1.664379e+09     5  4.856925e+05\n",
      "5  1.664380e+09     6  3.495537e+05\n"
     ]
    }
   ],
   "source": [
    "train_loss = pd.read_csv(\"09_28_2022.csv\")\n",
    "print(train_loss)"
   ]
  },
  {
   "cell_type": "code",
   "execution_count": 7,
   "id": "08f044ed",
   "metadata": {},
   "outputs": [
    {
     "data": {
      "image/png": "[encoded data removed]",
      "text/plain": [
       "<Figure size 432x288 with 1 Axes>"
      ]
     },
     "metadata": {
      "needs_background": "light"
     },
     "output_type": "display_data"
    }
   ],
   "source": [
    "plt.plot(train_loss[\"Step\"], train_loss[\"Value\"])\n",
    "plt.show()"
   ]
  }
 ],
 "metadata": {
  "kernelspec": {
   "display_name": "Python 3 (ipykernel)",
   "language": "python",
   "name": "python3"
  },
  "language_info": {
   "codemirror_mode": {
    "name": "ipython",
    "version": 3
   },
   "file_extension": ".py",
   "mimetype": "text/x-python",
   "name": "python",
   "nbconvert_exporter": "python",
   "pygments_lexer": "ipython3",
   "version": "3.9.7"
  }
 },
 "nbformat": 4,
 "nbformat_minor": 5
}
